{
 "cells": [
  {
   "cell_type": "code",
   "execution_count": null,
   "metadata": {
    "colab": {
     "base_uri": "https://localhost:8080/",
     "height": 35
    },
    "colab_type": "code",
    "id": "8230w_Tjl7mk",
    "outputId": "ee83bc8a-2dc7-4f48-e1ac-e32c75b4bd61"
   },
   "outputs": [],
   "source": [
    "#input\n",
    "import pydicom as pd\n",
    "import numpy as np\n",
    "import sklearn\n",
    "import matplotlib.pyplot as plt\n",
    "import sklearn.preprocessing as pp\n",
    "import skimage.filters as filters\n",
    "import skimage.feature as feature\n",
    "import skimage.restoration as restoration\n",
    "import skimage.exposure as exposure\n",
    "import os"
   ]
  },
  {
   "cell_type": "code",
   "execution_count": null,
   "metadata": {
    "colab": {
     "base_uri": "https://localhost:8080/",
     "height": 35
    },
    "colab_type": "code",
    "id": "lbdfuDkXvd1y",
    "outputId": "ef1a34ca-9cda-4217-bfaf-4102ab7dd77d"
   },
   "outputs": [],
   "source": [
    "work_dir = './Data/Raw'\n",
    "dcm_files = [pd.read_file(os.path.join(work_dir,file_path)) for file_path in os.listdir(work_dir)]"
   ]
  },
  {
   "cell_type": "code",
   "execution_count": null,
   "metadata": {
    "colab": {},
    "colab_type": "code",
    "id": "wz2pnbfMlZbW"
   },
   "outputs": [],
   "source": [
    "#cropping by metadata\n",
    "\n",
    "#input: img - dcm file\n",
    "#output: cropped pixel array\n",
    "\n",
    "def metacrop(file):\n",
    "    for key in file.dir():\n",
    "        value = getattr(file, key, \"\")\n",
    "        if(type(value) == pd.sequence.Sequence and key == \"SequenceOfUltrasoundRegions\"):\n",
    "            value = value[0]\n",
    "            break\n",
    "    x0, x1, y0, y1 = None, None, None, None\n",
    "    for key in value.dir():\n",
    "        if key == \"RegionLocationMinX0\":\n",
    "            x0 = getattr(value, key, \"\")\n",
    "        if key == \"RegionLocationMaxX1\":\n",
    "            x1 = getattr(value, key, \"\")\n",
    "        if key == \"RegionLocationMinY0\":\n",
    "            y0 = getattr(value, key, \"\")\n",
    "        if key == \"RegionLocationMaxY1\":\n",
    "            y1 = getattr(value, key, \"\")\n",
    "    print(x0, x1, y0, y1)\n",
    "    if(x0 == 0):\n",
    "        return colorcrop2(file.pixel_array)\n",
    "    return file.pixel_array[y0:y1,x0:x1]"
   ]
  },
  {
   "cell_type": "code",
   "execution_count": null,
   "metadata": {
    "colab": {},
    "colab_type": "code",
    "id": "UlLRIezvxFb5"
   },
   "outputs": [],
   "source": [
    "def colorcrop(pixel_arr):\n",
    "    midCol = pixel_arr.shape[1]//2\n",
    "    print(midCol)\n",
    "\n",
    "    # Left Side\n",
    "    flag = False\n",
    "    ind = -1\n",
    "    for i in range(midCol, 0, -1):\n",
    "        colArr = pixel_arr[:,i,0]\n",
    "        if(np.mean(colArr) == 0):\n",
    "            flag = True\n",
    "            ind = i\n",
    "            break\n",
    "    flag2 = False\n",
    "    ind2 = -1\n",
    "    for i in range(midCol, pixel_arr.shape[1]):\n",
    "        colArr = pixel_arr[:,i,0]\n",
    "        if(np.mean(colArr) == 0):\n",
    "            flag2 = True\n",
    "            ind2 = i\n",
    "            break\n",
    "    if(flag and flag2):\n",
    "        return pixel_arr[:,ind:ind2]\n",
    "    return pixel_arr"
   ]
  },
  {
   "cell_type": "code",
   "execution_count": null,
   "metadata": {},
   "outputs": [],
   "source": [
    "#cropping by x-axis black border\n",
    "\n",
    "#input: pixel array\n",
    "#output: cropped pixel array\n",
    "def colorcrop2(pixel_arr):\n",
    "    midCol = pixel_arr.shape[1]//2\n",
    "    x = pixel_arr[:,midCol:].sum(axis=0)[:,0]\n",
    "    distance = np.where(x == 0)[0][0]\n",
    "    ind = midCol - distance\n",
    "    ind2 = midCol + distance\n",
    "    print(ind, ind2)\n",
    "    return pixel_arr[:,ind:ind2]"
   ]
  },
  {
   "cell_type": "code",
   "execution_count": null,
   "metadata": {
    "colab": {},
    "colab_type": "code",
    "id": "fbUCB4N1ly37"
   },
   "outputs": [],
   "source": [
    "#Input a image as a NumpyArray\n",
    "#It will output a flipped image\n",
    "def flip(img):\n",
    "    return np.fliplr(img)"
   ]
  },
  {
   "cell_type": "code",
   "execution_count": null,
   "metadata": {
    "colab": {},
    "colab_type": "code",
    "id": "pTUlmSGAl0t0"
   },
   "outputs": [],
   "source": [
    "#Gaussian\n",
    "\n",
    "'''input: img = np array containing pixels of image to be processed\n",
    "         sig: double value for setting the sigma blurring filter\n",
    "  output: smooth_img = np array smoothed using gaussian filter'''\n",
    "\n",
    "def gaussian_blur(img, sig):\n",
    "    smooth_img = filters.gaussian(img, sigma = sig)\n",
    "    return smooth_img"
   ]
  },
  {
   "cell_type": "code",
   "execution_count": null,
   "metadata": {
    "colab": {},
    "colab_type": "code",
    "id": "jpViAsr6rphO"
   },
   "outputs": [],
   "source": [
    "def sobel(img):\n",
    "    return filters.sobel(img)"
   ]
  },
  {
   "cell_type": "code",
   "execution_count": null,
   "metadata": {
    "colab": {},
    "colab_type": "code",
    "id": "EHtbDqbqtNYf"
   },
   "outputs": [],
   "source": [
    "def canny(img, sigma):\n",
    "    return feature.canny(img, sigma = sigma)"
   ]
  },
  {
   "cell_type": "code",
   "execution_count": null,
   "metadata": {
    "colab": {},
    "colab_type": "code",
    "id": "4wylJqbLl21m"
   },
   "outputs": [],
   "source": [
    "#wavelet denoising\n",
    "\n",
    "'''input: img = np array containing pixels of image to be processed\n",
    "  output: denoise_img = np array with less noise using wavelet denoising of type db1'''\n",
    "\n",
    "def denoising(img):\n",
    "    denoise_img = restoration.denoise_wavelet(img)\n",
    "    return denoise_img"
   ]
  },
  {
   "cell_type": "code",
   "execution_count": null,
   "metadata": {
    "colab": {},
    "colab_type": "code",
    "id": "LnIy7Yuuu4L5"
   },
   "outputs": [],
   "source": [
    "def clahe(img):\n",
    "    return exposure.equalize_adapthist(img)"
   ]
  },
  {
   "cell_type": "code",
   "execution_count": null,
   "metadata": {
    "colab": {},
    "colab_type": "code",
    "id": "hvbLOvd4r6nm"
   },
   "outputs": [],
   "source": [
    "def conv_2d_3d(img):\n",
    "    arr = np.array(np.ones((img.shape[0], img.shape[1], 3), dtype=float))\n",
    "    print(arr.shape)\n",
    "    arr[:,:,0] = img\n",
    "    arr[:,:,1] = img\n",
    "    arr[:,:,2] = img\n",
    "    return arr"
   ]
  },
  {
   "cell_type": "code",
   "execution_count": null,
   "metadata": {
    "colab": {
     "base_uri": "https://localhost:8080/",
     "height": 160
    },
    "colab_type": "code",
    "id": "2VK8RB_6l4Hi",
    "outputId": "fdaed5c3-d697-44c2-b3b5-a39729a72866"
   },
   "outputs": [],
   "source": [
    "folder_path = \"./Data/Reg\"\n",
    "for counter, dcm in enumerate(dcm_files):\n",
    "    metacrop_arr = metacrop(dcm)\n",
    "    blur_arr = gaussian_blur(metacrop_arr, 15)\n",
    "    clahe_arr = clahe(blur_arr)\n",
    "    #canny_arr_2d = canny(clahe_arr[:,:,0], 1.5)\n",
    "    #canny_arr = conv_2d_3d(canny_arr_2d)\n",
    "    #denoise_arr = denoising(clahe_arr)\n",
    "    #flip_edge_arr = flip(canny_arr)\n",
    "    flip_arr = flip(clahe_arr)\n",
    "    file_path = os.path.join(folder_path, str(counter))\n",
    "    np.save(file_path+\".npy\", clahe_arr)\n",
    "    np.save(file_path+\"rev.npy\", flip_arr)\n",
    "    #np.save(file_path+\"edge.npy\", canny_arr)\n",
    "    #np.save(file_path+\"edgerev.npy\", flip_edge_arr)"
   ]
  },
  {
   "cell_type": "code",
   "execution_count": null,
   "metadata": {
    "colab": {
     "base_uri": "https://localhost:8080/",
     "height": 1529
    },
    "colab_type": "code",
    "id": "vtv4RLRcs4M9",
    "outputId": "8dfbd69f-9094-4d84-f5db-f99449addec1"
   },
   "outputs": [],
   "source": [
    "plt.imshow(dcm.pixel_array)\n",
    "plt.show()\n",
    "plt.imshow(metacrop_arr)\n",
    "plt.show()\n",
    "plt.imshow(blur_arr)\n",
    "plt.show()\n",
    "plt.imshow(clahe_arr)\n",
    "plt.show()\n",
    "plt.imshow(canny_arr)\n",
    "plt.show()\n",
    "#plt.imshow(denoise_arr)\n",
    "#plt.show()\n",
    "plt.imshow(flip_arr)\n",
    "plt.show()"
   ]
  },
  {
   "cell_type": "code",
   "execution_count": null,
   "metadata": {
    "colab": {},
    "colab_type": "code",
    "id": "5oW0nlc9vHaA"
   },
   "outputs": [],
   "source": []
  }
 ],
 "metadata": {
  "colab": {
   "collapsed_sections": [],
   "name": "ImagePreprocessing.ipynb",
   "provenance": [],
   "version": "0.3.2"
  },
  "kernelspec": {
   "display_name": "Python 3",
   "language": "python",
   "name": "python3"
  },
  "language_info": {
   "codemirror_mode": {
    "name": "ipython",
    "version": 3
   },
   "file_extension": ".py",
   "mimetype": "text/x-python",
   "name": "python",
   "nbconvert_exporter": "python",
   "pygments_lexer": "ipython3",
   "version": "3.6.5"
  }
 },
 "nbformat": 4,
 "nbformat_minor": 1
}

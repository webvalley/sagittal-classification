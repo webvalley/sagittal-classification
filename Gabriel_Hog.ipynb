{
 "cells": [
  {
   "cell_type": "code",
   "execution_count": null,
   "metadata": {
    "colab": {},
    "colab_type": "code",
    "id": "Uc2iyVAR0DFY"
   },
   "outputs": [],
   "source": [
    "import skimage\n",
    "import os\n",
    "import pydicom\n",
    "from matplotlib import pyplot as plt\n",
    "import skimage.feature\n",
    "import numpy as np\n",
    "from sklearn.decomposition import PCA\n",
    "from sklearn.cluster import KMeans\n",
    "\n",
    "dirname = \"../SagittalClassificationLocal/Temp\" #npy files dir name"
   ]
  },
  {
   "cell_type": "code",
   "execution_count": null,
   "metadata": {
    "colab": {
     "base_uri": "https://localhost:8080/",
     "height": 6238
    },
    "colab_type": "code",
    "id": "ATEmuaVw_VeX",
    "outputId": "9cfce3d4-2323-4a72-a302-37d088552595"
   },
   "outputs": [],
   "source": [
    "filenames = [el for el in os.listdir(dirname) if el.endswith('.npy')]\n",
    "dataset = np.zeros((len(filenames), 486), dtype=np.float32)\n",
    "for i, filename in enumerate(filenames):\n",
    "    img = np.load(os.path.join(dirname, filename))[:,:, 0]\n",
    "    smooth_img = skimage.filters.gaussian(img, 10)\n",
    "    sobel_img = skimage.filters.sobel(smooth_img)\n",
    "    if sobel_img.shape[0] == 432:\n",
    "        hog, hog_image = skimage.feature.hog(skimage.transform.rescale(sobel_img[:,:], 1/11), orientations=9, visualize=True)\n",
    "    else:\n",
    "        hog, hog_image = skimage.feature.hog(skimage.transform.rescale(sobel_img[:,:], 1/10), orientations=9, visualize=True)\n",
    "    dataset[i] = hog"
   ]
  },
  {
   "cell_type": "markdown",
   "metadata": {},
   "source": [
    "# PCA"
   ]
  },
  {
   "cell_type": "code",
   "execution_count": null,
   "metadata": {
    "colab": {
     "base_uri": "https://localhost:8080/",
     "height": 113
    },
    "colab_type": "code",
    "id": "4vPIILGE88Kw",
    "outputId": "f43d71c9-f89f-4603-f314-cff778741fb6"
   },
   "outputs": [],
   "source": [
    "pca = PCA(n_components=8)\n",
    "pca.fit(dataset)"
   ]
  },
  {
   "cell_type": "code",
   "execution_count": null,
   "metadata": {
    "colab": {
     "base_uri": "https://localhost:8080/",
     "height": 93
    },
    "colab_type": "code",
    "id": "DzrsqRO89Cth",
    "outputId": "32d09d2d-4305-47de-afa6-694d72fb5ae2"
   },
   "outputs": [],
   "source": [
    "print(pca.explained_variance_ratio_)"
   ]
  },
  {
   "cell_type": "code",
   "execution_count": null,
   "metadata": {
    "colab": {},
    "colab_type": "code",
    "id": "5T_92yeW9GbA"
   },
   "outputs": [],
   "source": [
    "pca_dataset = pca.transform(dataset)"
   ]
  },
  {
   "cell_type": "markdown",
   "metadata": {
    "colab": {},
    "colab_type": "code",
    "id": "NKIqYqhU9Qhy"
   },
   "source": [
    "# KMeans Clustering"
   ]
  },
  {
   "cell_type": "code",
   "execution_count": null,
   "metadata": {
    "colab": {},
    "colab_type": "code",
    "id": "6CnRNEmI9gNP"
   },
   "outputs": [],
   "source": [
    "kmeans = KMeans(n_clusters=2)\n",
    "kmeans.fit(pca_dataset)"
   ]
  },
  {
   "cell_type": "code",
   "execution_count": null,
   "metadata": {
    "colab": {
     "base_uri": "https://localhost:8080/",
     "height": 130
    },
    "colab_type": "code",
    "id": "XgUpL7Ws9u8-",
    "outputId": "9b081883-baf0-4048-dc86-ebb0c8d05899"
   },
   "outputs": [],
   "source": [
    "kmeans.labels_"
   ]
  },
  {
   "cell_type": "code",
   "execution_count": null,
   "metadata": {
    "colab": {
     "base_uri": "https://localhost:8080/",
     "height": 12424
    },
    "colab_type": "code",
    "id": "q6wluQ70-D3W",
    "outputId": "4b3de1fb-e8db-4995-d4fc-19fa21a40468"
   },
   "outputs": [],
   "source": [
    "for i, filename in enumerate(filenames):\n",
    "    print(\"Label: \", kmeans.labels_[i])\n",
    "    img = np.load(dirname + \"/\" + filename)\n",
    "    plt.imshow(img)\n",
    "    plt.show()"
   ]
  },
  {
   "cell_type": "code",
   "execution_count": null,
   "metadata": {},
   "outputs": [],
   "source": []
  }
 ],
 "metadata": {
  "colab": {
   "collapsed_sections": [],
   "name": "US_hog_orientation.ipynb",
   "provenance": [],
   "version": "0.3.2"
  },
  "kernelspec": {
   "display_name": "Python 3",
   "language": "python",
   "name": "python3"
  },
  "language_info": {
   "codemirror_mode": {
    "name": "ipython",
    "version": 3
   },
   "file_extension": ".py",
   "mimetype": "text/x-python",
   "name": "python",
   "nbconvert_exporter": "python",
   "pygments_lexer": "ipython3",
   "version": "3.6.8"
  }
 },
 "nbformat": 4,
 "nbformat_minor": 1
}

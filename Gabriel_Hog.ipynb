{
 "cells": [
  {
   "cell_type": "code",
   "execution_count": null,
   "metadata": {
    "colab": {},
    "colab_type": "code",
    "id": "Uc2iyVAR0DFY"
   },
   "outputs": [],
   "source": [
    "import os\n",
    "import skimage\n",
    "import skimage.feature\n",
    "import pydicom\n",
    "from matplotlib import pyplot as plt\n",
    "import numpy as np\n",
    "from sklearn.decomposition import PCA\n",
    "from sklearn.cluster import KMeans\n",
    "\n",
    "dirname = \"Data/Reg\" #npy files dir name"
   ]
  },
  {
   "cell_type": "code",
   "execution_count": null,
   "metadata": {
    "colab": {
     "base_uri": "https://localhost:8080/",
     "height": 6238
    },
    "colab_type": "code",
    "id": "ATEmuaVw_VeX",
    "outputId": "9cfce3d4-2323-4a72-a302-37d088552595"
   },
   "outputs": [],
   "source": [
    "filenames = [el for el in os.listdir(dirname) if el.endswith('.npy')]\n",
    "dataset = np.zeros((len(filenames), 486), dtype=np.float32)\n",
    "for i, filename in enumerate(filenames):\n",
    "    img = np.load(os.path.join(dirname, filename))[:,:, 0]\n",
    "    sobel_img = skimage.filters.sobel(img)\n",
    "    hog, hog_image = skimage.feature.hog(skimage.transform.rescale(sobel_img, 1/11), orientations=9, visualize=True, multichannel = False)\n",
    "    dataset[i] = hog"
   ]
  },
  {
   "cell_type": "markdown",
   "metadata": {},
   "source": [
    "# PCA"
   ]
  },
  {
   "cell_type": "code",
   "execution_count": null,
   "metadata": {
    "colab": {
     "base_uri": "https://localhost:8080/",
     "height": 113
    },
    "colab_type": "code",
    "id": "4vPIILGE88Kw",
    "outputId": "f43d71c9-f89f-4603-f314-cff778741fb6"
   },
   "outputs": [],
   "source": [
    "pca = PCA(n_components=26)\n",
    "pca.fit(dataset)"
   ]
  },
  {
   "cell_type": "code",
   "execution_count": null,
   "metadata": {
    "colab": {
     "base_uri": "https://localhost:8080/",
     "height": 93
    },
    "colab_type": "code",
    "id": "DzrsqRO89Cth",
    "outputId": "32d09d2d-4305-47de-afa6-694d72fb5ae2"
   },
   "outputs": [],
   "source": [
    "print(pca.explained_variance_ratio_)"
   ]
  },
  {
   "cell_type": "code",
   "execution_count": null,
   "metadata": {
    "colab": {},
    "colab_type": "code",
    "id": "5T_92yeW9GbA"
   },
   "outputs": [],
   "source": [
    "pca_dataset = pca.transform(dataset)"
   ]
  },
  {
   "cell_type": "markdown",
   "metadata": {
    "colab": {},
    "colab_type": "code",
    "id": "NKIqYqhU9Qhy"
   },
   "source": [
    "# KMeans Clustering"
   ]
  },
  {
   "cell_type": "code",
   "execution_count": null,
   "metadata": {
    "colab": {},
    "colab_type": "code",
    "id": "6CnRNEmI9gNP"
   },
   "outputs": [],
   "source": [
    "kmeans = KMeans(n_clusters=2)\n",
    "kmeans.fit(pca_dataset)"
   ]
  },
  {
   "cell_type": "code",
   "execution_count": null,
   "metadata": {
    "colab": {
     "base_uri": "https://localhost:8080/",
     "height": 130
    },
    "colab_type": "code",
    "id": "XgUpL7Ws9u8-",
    "outputId": "9b081883-baf0-4048-dc86-ebb0c8d05899"
   },
   "outputs": [],
   "source": [
    "kmeans.labels_"
   ]
  },
  {
   "cell_type": "code",
   "execution_count": null,
   "metadata": {},
   "outputs": [],
   "source": [
    "import _pickle as pickle\n",
    "pickle.dump(kmeans, open(\"model.pkl\", 'wb'))"
   ]
  },
  {
   "cell_type": "code",
   "execution_count": null,
   "metadata": {
    "colab": {
     "base_uri": "https://localhost:8080/",
     "height": 12424
    },
    "colab_type": "code",
    "id": "q6wluQ70-D3W",
    "outputId": "4b3de1fb-e8db-4995-d4fc-19fa21a40468"
   },
   "outputs": [],
   "source": [
    "for i, filename in enumerate(filenames):\n",
    "    if not \"rev\" in filename:\n",
    "        print(\"Label: \", kmeans.labels_[i])\n",
    "        img = np.load(dirname + \"/\" + filename)\n",
    "        ogfile = pydicom.read_file(\"Data/Raw/\" + filename[:][:-4] + \".dcm\")\n",
    "        plt.imshow(ogfile.pixel_array)\n",
    "        plt.show()\n",
    "        plt.imshow(img)\n",
    "        plt.show()"
   ]
  },
  {
   "cell_type": "markdown",
   "metadata": {},
   "source": [
    "# Move and Load Files"
   ]
  },
  {
   "cell_type": "code",
   "execution_count": null,
   "metadata": {},
   "outputs": [],
   "source": [
    "for i, filename in enumerate(filenames):\n",
    "    os.rename(os.path.join(dirname, filename), os.path.join(\"Data\", str(kmeans.labels_[i]), filename))"
   ]
  },
  {
   "cell_type": "code",
   "execution_count": null,
   "metadata": {},
   "outputs": [],
   "source": [
    "for filename in os.listdir(\"Data/1\"):\n",
    "    if not \"rev\" in filename:\n",
    "        img = np.load(\"Data/1/\" + filename)\n",
    "        ogfile = pydicom.read_file(\"Data/Raw/\" + filename[:][:-4] + \".dcm\")\n",
    "        plt.imshow(ogfile.pixel_array)\n",
    "        plt.show()"
   ]
  },
  {
   "cell_type": "code",
   "execution_count": null,
   "metadata": {},
   "outputs": [],
   "source": [
    "img = np.load(dirname + \"/\" + \"422.npy\")\n",
    "ogfile = pd.read_file(\"Data/Raw/\" + \"422.dcm\")\n",
    "plt.imshow(ogfile.pixel_array)\n",
    "plt.show()\n",
    "plt.imshow(img)\n",
    "plt.show()"
   ]
  },
  {
   "cell_type": "code",
   "execution_count": null,
   "metadata": {},
   "outputs": [],
   "source": []
  }
 ],
 "metadata": {
  "colab": {
   "collapsed_sections": [],
   "name": "US_hog_orientation.ipynb",
   "provenance": [],
   "version": "0.3.2"
  },
  "kernelspec": {
   "display_name": "Python 3",
   "language": "python",
   "name": "python3"
  },
  "language_info": {
   "codemirror_mode": {
    "name": "ipython",
    "version": 3
   },
   "file_extension": ".py",
   "mimetype": "text/x-python",
   "name": "python",
   "nbconvert_exporter": "python",
   "pygments_lexer": "ipython3",
   "version": "3.7.3"
  }
 },
 "nbformat": 4,
 "nbformat_minor": 1
}

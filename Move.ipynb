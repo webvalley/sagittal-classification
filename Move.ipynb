{
 "cells": [
  {
   "cell_type": "code",
   "execution_count": null,
   "metadata": {},
   "outputs": [],
   "source": [
    "import pydicom as pd\n",
    "import numpy as np\n",
    "import sklearn\n",
    "import matplotlib.pyplot as plt\n",
    "import sklearn.preprocessing as pp\n",
    "import skimage.filters as filters\n",
    "import skimage.feature as feature\n",
    "import skimage.restoration as restoration\n",
    "import skimage.exposure as exposure\n",
    "import os"
   ]
  },
  {
   "cell_type": "code",
   "execution_count": null,
   "metadata": {},
   "outputs": [],
   "source": [
    "work_dir = './Data/Raw'\n",
    "dcm_files = [os.path.join(work_dir,file_path) for file_path in os.listdir(work_dir)]\n",
    "\n",
    "for fil in dcm_files:\n",
    "    print(fil)\n",
    "    dat = pd.read_file(fil)\n",
    "    plt.imshow(dat.pixel_array)\n",
    "    plt.show()\n",
    "    label = input(\"Label?\")\n",
    "    print(\"cp \" + fil + \" ./Data/Actual\" + label)\n",
    "    if(label == '0'):\n",
    "        os.system(\"cp \" + fil + \" ./Data/Actual0\")\n",
    "    elif (label == '1'):\n",
    "        os.system(\"cp \" + fil + \" ./Data/Actual1\")\n",
    "    else:\n",
    "        os.system(\"cp \" + fil + \" ./Data/Unknown\")"
   ]
  },
  {
   "cell_type": "code",
   "execution_count": null,
   "metadata": {},
   "outputs": [],
   "source": [
    "work_dir = './Data/Unknown'\n",
    "dcm_files = [os.path.join(work_dir,file_path) for file_path in os.listdir(work_dir)]\n",
    "\n",
    "for fil in dcm_files:\n",
    "    print(fil)\n",
    "    dat = pd.read_file(fil)\n",
    "    plt.imshow(dat.pixel_array)\n",
    "    plt.show()\n",
    "    label = input(\"Label?\")\n",
    "    print(\"cp \" + fil + \" ./Data/Actual\" + label)\n",
    "    if(label == '0'):\n",
    "        os.system(\"cp \" + fil + \" ./Data/Actual0\")\n",
    "    elif (label == '1'):\n",
    "        os.system(\"cp \" + fil + \" ./Data/Actual1\")\n",
    "    else:\n",
    "        os.system(\"cp \" + fil + \" ./Data/Unknown\")"
   ]
  },
  {
   "cell_type": "code",
   "execution_count": null,
   "metadata": {},
   "outputs": [],
   "source": [
    "work_dir = './Data/Temp1'\n",
    "dcm_files = [os.path.join(work_dir,file_path) for file_path in os.listdir(work_dir)]\n",
    "\n",
    "for fil in dcm_files:\n",
    "    print(fil)\n",
    "    dat = pd.read_file(fil)\n",
    "    plt.imshow(dat.pixel_array)\n",
    "    plt.show()\n",
    "    label = input(\"Label?\")\n",
    "    print(\"cp \" + fil + \" ./Data/Actual\" + label)\n",
    "    if(label == '0'):\n",
    "        os.system(\"mv \" + fil + \" ./Data/Actual0\")\n",
    "    elif (label == '1'):\n",
    "        os.system(\"mv \" + fil + \" ./Data/Actual1\")"
   ]
  },
  {
   "cell_type": "code",
   "execution_count": null,
   "metadata": {},
   "outputs": [],
   "source": []
  }
 ],
 "metadata": {
  "kernelspec": {
   "display_name": "Python 3",
   "language": "python",
   "name": "python3"
  },
  "language_info": {
   "codemirror_mode": {
    "name": "ipython",
    "version": 3
   },
   "file_extension": ".py",
   "mimetype": "text/x-python",
   "name": "python",
   "nbconvert_exporter": "python",
   "pygments_lexer": "ipython3",
   "version": "3.6.8"
  }
 },
 "nbformat": 4,
 "nbformat_minor": 2
}

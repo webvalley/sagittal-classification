{
 "cells": [
  {
   "cell_type": "code",
   "execution_count": null,
   "metadata": {
    "colab": {
     "base_uri": "https://localhost:8080/",
     "height": 125
    },
    "colab_type": "code",
    "executionInfo": {
     "elapsed": 87856,
     "status": "ok",
     "timestamp": 1561191060101,
     "user": {
      "displayName": "Neeyanth Kopparapu",
      "photoUrl": "https://lh3.googleusercontent.com/-9v-iWZie2n8/AAAAAAAAAAI/AAAAAAAAFgg/UTUqJvnz2TY/s64/photo.jpg",
      "userId": "13856791923336338624"
     },
     "user_tz": -120
    },
    "id": "mlw_aUoMkWKH",
    "outputId": "2500fc5d-4499-498e-9427-70700793e297"
   },
   "outputs": [],
   "source": [
    "from google.colab import drive\n",
    "drive.mount('/data', force_remount=True)"
   ]
  },
  {
   "cell_type": "code",
   "execution_count": null,
   "metadata": {
    "colab": {
     "base_uri": "https://localhost:8080/",
     "height": 125
    },
    "colab_type": "code",
    "executionInfo": {
     "elapsed": 94703,
     "status": "ok",
     "timestamp": 1561191067589,
     "user": {
      "displayName": "Neeyanth Kopparapu",
      "photoUrl": "https://lh3.googleusercontent.com/-9v-iWZie2n8/AAAAAAAAAAI/AAAAAAAAFgg/UTUqJvnz2TY/s64/photo.jpg",
      "userId": "13856791923336338624"
     },
     "user_tz": -120
    },
    "id": "hUdWNZwJrY3L",
    "outputId": "c5ddfc26-771c-4e23-8154-a1f3dfa3ff69"
   },
   "outputs": [],
   "source": [
    "!pip install pydicom"
   ]
  },
  {
   "cell_type": "code",
   "execution_count": null,
   "metadata": {
    "colab": {},
    "colab_type": "code",
    "id": "moSMMF_frexb"
   },
   "outputs": [],
   "source": [
    "filename = '/data/My Drive/pytorch_clinic/PLIC_1492/H7DAICOC.dcm'"
   ]
  },
  {
   "cell_type": "code",
   "execution_count": null,
   "metadata": {
    "colab": {},
    "colab_type": "code",
    "id": "WwgZIJZxvtXJ"
   },
   "outputs": [],
   "source": [
    "import os"
   ]
  },
  {
   "cell_type": "code",
   "execution_count": null,
   "metadata": {
    "colab": {},
    "colab_type": "code",
    "id": "O6sN5hHhwE0Q"
   },
   "outputs": [],
   "source": [
    "dirname = '/data/My Drive/pytorch_clinic/PLIC_1492/'"
   ]
  },
  {
   "cell_type": "code",
   "execution_count": null,
   "metadata": {
    "colab": {},
    "colab_type": "code",
    "id": "HwVAGrrXvu-v"
   },
   "outputs": [],
   "source": [
    "filenames = [el for el in os.listdir(dirname) if el.endswith('.dcm')]"
   ]
  },
  {
   "cell_type": "code",
   "execution_count": null,
   "metadata": {
    "colab": {},
    "colab_type": "code",
    "id": "A4x6fg-RsAFx"
   },
   "outputs": [],
   "source": [
    "import pydicom"
   ]
  },
  {
   "cell_type": "code",
   "execution_count": null,
   "metadata": {
    "colab": {},
    "colab_type": "code",
    "id": "t65tMMLQr2qh"
   },
   "outputs": [],
   "source": [
    "ds = pydicom.dcmread(filename)"
   ]
  },
  {
   "cell_type": "code",
   "execution_count": null,
   "metadata": {
    "colab": {},
    "colab_type": "code",
    "id": "rsueYELNtE1S"
   },
   "outputs": [],
   "source": [
    "from matplotlib import pyplot as plt"
   ]
  },
  {
   "cell_type": "code",
   "execution_count": null,
   "metadata": {
    "colab": {},
    "colab_type": "code",
    "id": "Uc2iyVAR0DFY"
   },
   "outputs": [],
   "source": [
    "import skimage\n",
    "import skimage.feature\n",
    "import numpy as np"
   ]
  },
  {
   "cell_type": "code",
   "execution_count": null,
   "metadata": {
    "colab": {
     "base_uri": "https://localhost:8080/",
     "height": 46440,
     "output_embedded_package_id": "1AAcu6OuT2QxtEzdWq-vaMM6Ckbg_5cdh"
    },
    "colab_type": "code",
    "executionInfo": {
     "elapsed": 76388,
     "status": "ok",
     "timestamp": 1561191338092,
     "user": {
      "displayName": "Neeyanth Kopparapu",
      "photoUrl": "https://lh3.googleusercontent.com/-9v-iWZie2n8/AAAAAAAAAAI/AAAAAAAAFgg/UTUqJvnz2TY/s64/photo.jpg",
      "userId": "13856791923336338624"
     },
     "user_tz": -120
    },
    "id": "ATEmuaVw_VeX",
    "outputId": "b1204033-b4dc-4c44-e9f2-b658c0b782e2"
   },
   "outputs": [],
   "source": [
    "dataset = np.zeros((len(filenames), 162), dtype=np.float32)\n",
    "for i, filename in enumerate(filenames):\n",
    "    ds = pydicom.dcmread(os.path.join(dirname, filename))\n",
    "    img = ds.pixel_array[100:-50, 110:500, 0]\n",
    "    smooth_img = skimage.filters.gaussian(img, sigma=20)\n",
    "    sobel_img = skimage.filters.sobel(smooth_img)\n",
    "    # print(sobel_img.shape)\n",
    "    hog, hog_image = skimage.feature.hog(skimage.transform.rescale(sobel_img, 1/10), orientations=9, visualize=True)\n",
    "    # hog = skimage.feature.hog(skimage.transform.rescale(sobel_img, 1/10), orientations=9, visualize=False)\n",
    "    # print(hog.shape)\n",
    "    plt.imshow(ds.pixel_array)\n",
    "    print(ds.pixel_array.shape)\n",
    "    plt.show()\n",
    "    plt.imshow(smooth_img)\n",
    "    plt.show()\n",
    "    plt.imshow(sobel_img)\n",
    "    plt.show()\n",
    "    plt.imshow(hog_image)\n",
    "    plt.show()"
   ]
  },
  {
   "cell_type": "code",
   "execution_count": null,
   "metadata": {
    "colab": {
     "base_uri": "https://localhost:8080/",
     "height": 133
    },
    "colab_type": "code",
    "executionInfo": {
     "elapsed": 3724,
     "status": "ok",
     "timestamp": 1561152658231,
     "user": {
      "displayName": "Luca Antiga",
      "photoUrl": "https://lh6.googleusercontent.com/-6-PkoC3ciew/AAAAAAAAAAI/AAAAAAAAB40/M4BuZuIPJBQ/s64/photo.jpg",
      "userId": "02602330498394623331"
     },
     "user_tz": -120
    },
    "id": "8x-TobX0tTn-",
    "outputId": "c0d03712-f604-46b8-f11e-0c8c69adcfd1"
   },
   "outputs": [],
   "source": [
    "dataset = np.zeros((len(filenames), 162), dtype=np.float32)\n",
    "for i, filename in enumerate(filenames):\n",
    "    ds = pydicom.dcmread(os.path.join(dirname, filename))\n",
    "    img = ds.pixel_array[100:-50, 110:500, 0]\n",
    "    smooth_img = skimage.filters.gaussian(img, sigma=20)\n",
    "    sobel_img = skimage.filters.sobel(smooth_img)\n",
    "    # print(sobel_img.shape)\n",
    "    # hog, hog_image = skimage.feature.hog(skimage.transform.rescale(sobel_img, 1/10), orientations=9, visualize=True)\n",
    "    hog = skimage.feature.hog(skimage.transform.rescale(sobel_img, 1/10), orientations=9, visualize=False)\n",
    "    dataset[i] = hog\n",
    "    # print(hog.shape)\n",
    "    # plt.imshow(ds.pixel_array)\n",
    "    # plt.show()\n",
    "    # plt.imshow(hog_image)\n",
    "    # plt.show()"
   ]
  },
  {
   "cell_type": "code",
   "execution_count": null,
   "metadata": {
    "colab": {
     "base_uri": "https://localhost:8080/",
     "height": 308
    },
    "colab_type": "code",
    "executionInfo": {
     "elapsed": 498,
     "status": "ok",
     "timestamp": 1561152664850,
     "user": {
      "displayName": "Luca Antiga",
      "photoUrl": "https://lh6.googleusercontent.com/-6-PkoC3ciew/AAAAAAAAAAI/AAAAAAAAB40/M4BuZuIPJBQ/s64/photo.jpg",
      "userId": "02602330498394623331"
     },
     "user_tz": -120
    },
    "id": "V3c5sRCntWsF",
    "outputId": "91b935b1-754e-4ee2-b225-49eac9767290"
   },
   "outputs": [],
   "source": [
    "dataset"
   ]
  },
  {
   "cell_type": "code",
   "execution_count": null,
   "metadata": {
    "colab": {},
    "colab_type": "code",
    "id": "J9otpJ_v8zLN"
   },
   "outputs": [],
   "source": [
    "from sklearn.decomposition import PCA"
   ]
  },
  {
   "cell_type": "code",
   "execution_count": null,
   "metadata": {
    "colab": {
     "base_uri": "https://localhost:8080/",
     "height": 113
    },
    "colab_type": "code",
    "executionInfo": {
     "elapsed": 470,
     "status": "ok",
     "timestamp": 1561152728458,
     "user": {
      "displayName": "Luca Antiga",
      "photoUrl": "https://lh6.googleusercontent.com/-6-PkoC3ciew/AAAAAAAAAAI/AAAAAAAAB40/M4BuZuIPJBQ/s64/photo.jpg",
      "userId": "02602330498394623331"
     },
     "user_tz": -120
    },
    "id": "4vPIILGE88Kw",
    "outputId": "f43d71c9-f89f-4603-f314-cff778741fb6"
   },
   "outputs": [],
   "source": [
    "pca = PCA(n_components=8)\n",
    "pca.fit(dataset)"
   ]
  },
  {
   "cell_type": "code",
   "execution_count": null,
   "metadata": {
    "colab": {
     "base_uri": "https://localhost:8080/",
     "height": 93
    },
    "colab_type": "code",
    "executionInfo": {
     "elapsed": 575,
     "status": "ok",
     "timestamp": 1561152743759,
     "user": {
      "displayName": "Luca Antiga",
      "photoUrl": "https://lh6.googleusercontent.com/-6-PkoC3ciew/AAAAAAAAAAI/AAAAAAAAB40/M4BuZuIPJBQ/s64/photo.jpg",
      "userId": "02602330498394623331"
     },
     "user_tz": -120
    },
    "id": "DzrsqRO89Cth",
    "outputId": "32d09d2d-4305-47de-afa6-694d72fb5ae2"
   },
   "outputs": [],
   "source": [
    "print(pca.explained_variance_ratio_)"
   ]
  },
  {
   "cell_type": "code",
   "execution_count": null,
   "metadata": {
    "colab": {},
    "colab_type": "code",
    "id": "5T_92yeW9GbA"
   },
   "outputs": [],
   "source": [
    "pca_dataset = pca.transform(dataset)"
   ]
  },
  {
   "cell_type": "code",
   "execution_count": null,
   "metadata": {
    "colab": {},
    "colab_type": "code",
    "id": "NKIqYqhU9Qhy"
   },
   "outputs": [],
   "source": [
    "from sklearn.cluster import KMeans"
   ]
  },
  {
   "cell_type": "code",
   "execution_count": null,
   "metadata": {
    "colab": {},
    "colab_type": "code",
    "id": "6CnRNEmI9gNP"
   },
   "outputs": [],
   "source": [
    "kmeans = KMeans(n_clusters=2)"
   ]
  },
  {
   "cell_type": "code",
   "execution_count": null,
   "metadata": {
    "colab": {
     "base_uri": "https://localhost:8080/",
     "height": 130
    },
    "colab_type": "code",
    "executionInfo": {
     "elapsed": 465,
     "status": "ok",
     "timestamp": 1561152909667,
     "user": {
      "displayName": "Luca Antiga",
      "photoUrl": "https://lh6.googleusercontent.com/-6-PkoC3ciew/AAAAAAAAAAI/AAAAAAAAB40/M4BuZuIPJBQ/s64/photo.jpg",
      "userId": "02602330498394623331"
     },
     "user_tz": -120
    },
    "id": "FqS_NOty9lI_",
    "outputId": "aed27096-3b8b-44c0-f3b2-be765818e4c8"
   },
   "outputs": [],
   "source": [
    "kmeans.fit(pca_dataset)"
   ]
  },
  {
   "cell_type": "code",
   "execution_count": null,
   "metadata": {
    "colab": {
     "base_uri": "https://localhost:8080/",
     "height": 130
    },
    "colab_type": "code",
    "executionInfo": {
     "elapsed": 534,
     "status": "ok",
     "timestamp": 1561153005088,
     "user": {
      "displayName": "Luca Antiga",
      "photoUrl": "https://lh6.googleusercontent.com/-6-PkoC3ciew/AAAAAAAAAAI/AAAAAAAAB40/M4BuZuIPJBQ/s64/photo.jpg",
      "userId": "02602330498394623331"
     },
     "user_tz": -120
    },
    "id": "XgUpL7Ws9u8-",
    "outputId": "9b081883-baf0-4048-dc86-ebb0c8d05899"
   },
   "outputs": [],
   "source": [
    "kmeans.labels_"
   ]
  },
  {
   "cell_type": "code",
   "execution_count": null,
   "metadata": {
    "colab": {
     "base_uri": "https://localhost:8080/",
     "height": 12424
    },
    "colab_type": "code",
    "executionInfo": {
     "elapsed": 15364,
     "status": "ok",
     "timestamp": 1561153080424,
     "user": {
      "displayName": "Luca Antiga",
      "photoUrl": "https://lh6.googleusercontent.com/-6-PkoC3ciew/AAAAAAAAAAI/AAAAAAAAB40/M4BuZuIPJBQ/s64/photo.jpg",
      "userId": "02602330498394623331"
     },
     "user_tz": -120
    },
    "id": "q6wluQ70-D3W",
    "outputId": "4b3de1fb-e8db-4995-d4fc-19fa21a40468"
   },
   "outputs": [],
   "source": [
    "for i, filename in enumerate(filenames):\n",
    "    ds = pydicom.dcmread(os.path.join(dirname, filename))\n",
    "    img = ds.pixel_array\n",
    "    plt.imshow(img)\n",
    "    plt.show()\n",
    "    print(kmeans.labels_[i])\n",
    "\n"
   ]
  },
  {
   "cell_type": "code",
   "execution_count": null,
   "metadata": {
    "colab": {},
    "colab_type": "code",
    "id": "y4X0XJd2-VAP"
   },
   "outputs": [],
   "source": [
    "dirr = !pwd"
   ]
  },
  {
   "cell_type": "code",
   "execution_count": null,
   "metadata": {
    "colab": {
     "base_uri": "https://localhost:8080/",
     "height": 35
    },
    "colab_type": "code",
    "executionInfo": {
     "elapsed": 513,
     "status": "ok",
     "timestamp": 1561189149769,
     "user": {
      "displayName": "Neeyanth Kopparapu",
      "photoUrl": "https://lh3.googleusercontent.com/-9v-iWZie2n8/AAAAAAAAAAI/AAAAAAAAFgg/UTUqJvnz2TY/s64/photo.jpg",
      "userId": "13856791923336338624"
     },
     "user_tz": -120
    },
    "id": "e6ye-VxWH7j8",
    "outputId": "3cc1a95f-ea02-490c-b617-2612fd6d4976"
   },
   "outputs": [],
   "source": [
    "dirr[0]"
   ]
  },
  {
   "cell_type": "code",
   "execution_count": null,
   "metadata": {
    "colab": {},
    "colab_type": "code",
    "id": "3kaQNVWLH9ci"
   },
   "outputs": [],
   "source": []
  },
  {
   "cell_type": "code",
   "execution_count": null,
   "metadata": {
    "colab": {},
    "colab_type": "code",
    "id": "i8ja5bEJICu7"
   },
   "outputs": [],
   "source": []
  }
 ],
 "metadata": {
  "colab": {
   "collapsed_sections": [],
   "name": "US_Hog_Orientation.ipynb",
   "provenance": [
    {
     "file_id": "1HFkE9yKIfEHP0oFKkIxhy4BJyR-8N-L7",
     "timestamp": 1561188924138
    },
    {
     "file_id": "1SaCurS3Yxqiz-mD110jXmwSZzSY1opHg",
     "timestamp": 1561188855115
    }
   ],
   "version": "0.3.2"
  },
  "kernelspec": {
   "display_name": "Python 3",
   "language": "python",
   "name": "python3"
  },
  "language_info": {
   "codemirror_mode": {
    "name": "ipython",
    "version": 3
   },
   "file_extension": ".py",
   "mimetype": "text/x-python",
   "name": "python",
   "nbconvert_exporter": "python",
   "pygments_lexer": "ipython3",
   "version": "3.7.3"
  }
 },
 "nbformat": 4,
 "nbformat_minor": 1
}
